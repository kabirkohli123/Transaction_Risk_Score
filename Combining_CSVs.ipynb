{
  "nbformat": 4,
  "nbformat_minor": 0,
  "metadata": {
    "colab": {
      "provenance": []
    },
    "kernelspec": {
      "name": "python3",
      "display_name": "Python 3"
    },
    "language_info": {
      "name": "python"
    }
  },
  "cells": [
    {
      "cell_type": "code",
      "source": [
        "from google.colab import drive\n",
        "import pandas as pd\n",
        "import glob\n",
        "import os\n",
        "\n",
        "# Mount your Google Drive\n",
        "drive.mount('/content/drive')\n"
      ],
      "metadata": {
        "colab": {
          "base_uri": "https://localhost:8080/"
        },
        "id": "EGsPng47Y_BE",
        "outputId": "d6fd9f62-ee19-458d-dcfe-2c68c278a959"
      },
      "execution_count": 6,
      "outputs": [
        {
          "output_type": "stream",
          "name": "stdout",
          "text": [
            "Mounted at /content/drive\n"
          ]
        }
      ]
    },
    {
      "cell_type": "code",
      "source": [
        "folder_path = \"/content/drive/MyDrive/Transaction CSVs\"  # Adjust if the folder name is different\n",
        "\n",
        "# Find all CSVs in the folder\n",
        "csv_files = glob.glob(os.path.join(folder_path, \"*.csv\"))\n",
        "\n",
        "# Combine all CSVs with wallet address extracted from filename\n",
        "combined_df = pd.concat(\n",
        "    [pd.read_csv(f).assign(wallet_address=os.path.basename(f).replace(\"export-\", \"\").replace(\".csv\", \"\")) for f in csv_files],\n",
        "    ignore_index=True\n",
        ")\n",
        "\n",
        "# Save the combined file to your Drive\n",
        "combined_path = os.path.join(folder_path, \"combined_transactions.csv\")\n",
        "combined_df.to_csv(combined_path, index=False)\n",
        "\n",
        "print(f\"✅ Combined file saved to: {combined_path}\")\n"
      ],
      "metadata": {
        "colab": {
          "base_uri": "https://localhost:8080/"
        },
        "id": "Oe9TDv-5ZLC2",
        "outputId": "696f96f1-3679-4b06-e079-aa9382a67494"
      },
      "execution_count": 7,
      "outputs": [
        {
          "output_type": "stream",
          "name": "stdout",
          "text": [
            "✅ Combined file saved to: /content/drive/MyDrive/Transaction CSVs/combined_transactions.csv\n"
          ]
        }
      ]
    },
    {
      "cell_type": "code",
      "source": [
        "combined_csv = pd.read_csv(\"combined_transactions.csv\")\n",
        "combined_csv.shape"
      ],
      "metadata": {
        "colab": {
          "base_uri": "https://localhost:8080/"
        },
        "id": "3pZcKMEQZLGW",
        "outputId": "482f71b3-479a-4ffd-f5a7-43c870d21e3f"
      },
      "execution_count": 12,
      "outputs": [
        {
          "output_type": "execute_result",
          "data": {
            "text/plain": [
              "(2911, 32)"
            ]
          },
          "metadata": {},
          "execution_count": 12
        }
      ]
    },
    {
      "cell_type": "code",
      "source": [],
      "metadata": {
        "id": "6ZWDvFLtZKH1"
      },
      "execution_count": null,
      "outputs": []
    },
    {
      "cell_type": "code",
      "source": [],
      "metadata": {
        "id": "dOs6HLHTZKKh"
      },
      "execution_count": null,
      "outputs": []
    },
    {
      "cell_type": "code",
      "source": [],
      "metadata": {
        "id": "i7iyBisYZKN8"
      },
      "execution_count": null,
      "outputs": []
    },
    {
      "cell_type": "code",
      "source": [],
      "metadata": {
        "id": "Aesh20ZsWbdD"
      },
      "execution_count": null,
      "outputs": []
    },
    {
      "cell_type": "code",
      "source": [],
      "metadata": {
        "id": "7UGMnfnuWbf7"
      },
      "execution_count": null,
      "outputs": []
    },
    {
      "cell_type": "code",
      "source": [],
      "metadata": {
        "id": "gv5q67VGWbjf"
      },
      "execution_count": null,
      "outputs": []
    }
  ]
}